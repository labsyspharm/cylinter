{
 "cells": [
  {
   "cell_type": "code",
   "execution_count": 1,
   "metadata": {},
   "outputs": [],
   "source": [
    "import pandas as pd\n",
    "import os\n",
    "import sklearn.model_selection\n",
    "from sklearn.preprocessing import StandardScaler\n",
    "from sklearn.neural_network import MLPClassifier\n"
   ]
  },
  {
   "cell_type": "markdown",
   "metadata": {},
   "source": [
    "### 1. Subset the feature table"
   ]
  },
  {
   "cell_type": "code",
   "execution_count": 3,
   "metadata": {},
   "outputs": [],
   "source": [
    "data = pd.read_csv('sardana-097/HACKATHON/csv/WD-76845-097.csv')\n",
    "truth = pd.read_csv('sardana-097/HACKATHON/csv/truth.csv')\n",
    "\n",
    "noisy_ids = truth['CellID'][truth['class_label'] != 1]\n",
    "clean_ids = truth['CellID'][truth['class_label'] == 1]\n",
    "\n",
    "clean_ids_subset = clean_ids.sample(n=len(noisy_ids), random_state=0)"
   ]
  },
  {
   "cell_type": "code",
   "execution_count": 4,
   "metadata": {},
   "outputs": [
    {
     "data": {
      "text/plain": [
       "101748"
      ]
     },
     "execution_count": 4,
     "metadata": {},
     "output_type": "execute_result"
    }
   ],
   "source": [
    "total_ids_subset = pd.concat((noisy_ids, clean_ids_subset))\n",
    "\n",
    "final = data[data['CellID'].isin(total_ids_subset)]\n",
    "final.to_csv('./feature_table_subset.csv', index=False)\n",
    "len(total_ids_subset)"
   ]
  },
  {
   "cell_type": "markdown",
   "metadata": {},
   "source": [
    "### 2. Generate training and test data"
   ]
  },
  {
   "cell_type": "code",
   "execution_count": 5,
   "metadata": {},
   "outputs": [
    {
     "data": {
      "text/html": [
       "<div>\n",
       "<style scoped>\n",
       "    .dataframe tbody tr th:only-of-type {\n",
       "        vertical-align: middle;\n",
       "    }\n",
       "\n",
       "    .dataframe tbody tr th {\n",
       "        vertical-align: top;\n",
       "    }\n",
       "\n",
       "    .dataframe thead th {\n",
       "        text-align: right;\n",
       "    }\n",
       "</style>\n",
       "<table border=\"1\" class=\"dataframe\">\n",
       "  <thead>\n",
       "    <tr style=\"text-align: right;\">\n",
       "      <th></th>\n",
       "      <th>CellID</th>\n",
       "      <th>Hoechst0</th>\n",
       "      <th>AF488</th>\n",
       "      <th>AF555</th>\n",
       "      <th>AF647</th>\n",
       "      <th>Hoechst1</th>\n",
       "      <th>A488</th>\n",
       "      <th>A555</th>\n",
       "      <th>A647</th>\n",
       "      <th>Hoechst2</th>\n",
       "      <th>...</th>\n",
       "      <th>Y_centroid</th>\n",
       "      <th>column_centroid</th>\n",
       "      <th>row_centroid</th>\n",
       "      <th>Area</th>\n",
       "      <th>MajorAxisLength</th>\n",
       "      <th>MinorAxisLength</th>\n",
       "      <th>Eccentricity</th>\n",
       "      <th>Solidity</th>\n",
       "      <th>Extent</th>\n",
       "      <th>Orientation</th>\n",
       "    </tr>\n",
       "  </thead>\n",
       "  <tbody>\n",
       "    <tr>\n",
       "      <th>0</th>\n",
       "      <td>8</td>\n",
       "      <td>368.628319</td>\n",
       "      <td>934.362832</td>\n",
       "      <td>380.849558</td>\n",
       "      <td>675.415929</td>\n",
       "      <td>348.194690</td>\n",
       "      <td>864.008850</td>\n",
       "      <td>372.761062</td>\n",
       "      <td>760.769912</td>\n",
       "      <td>359.982301</td>\n",
       "      <td>...</td>\n",
       "      <td>846.893805</td>\n",
       "      <td>20622.858407</td>\n",
       "      <td>846.893805</td>\n",
       "      <td>113</td>\n",
       "      <td>15.712891</td>\n",
       "      <td>9.480411</td>\n",
       "      <td>0.797475</td>\n",
       "      <td>0.941667</td>\n",
       "      <td>0.553922</td>\n",
       "      <td>-0.224525</td>\n",
       "    </tr>\n",
       "    <tr>\n",
       "      <th>1</th>\n",
       "      <td>54</td>\n",
       "      <td>339.355140</td>\n",
       "      <td>842.093458</td>\n",
       "      <td>345.915888</td>\n",
       "      <td>671.065421</td>\n",
       "      <td>313.551402</td>\n",
       "      <td>776.140187</td>\n",
       "      <td>357.542056</td>\n",
       "      <td>737.177570</td>\n",
       "      <td>331.429907</td>\n",
       "      <td>...</td>\n",
       "      <td>1240.439252</td>\n",
       "      <td>18021.271028</td>\n",
       "      <td>1240.439252</td>\n",
       "      <td>107</td>\n",
       "      <td>18.849453</td>\n",
       "      <td>7.630867</td>\n",
       "      <td>0.914391</td>\n",
       "      <td>0.955357</td>\n",
       "      <td>0.419608</td>\n",
       "      <td>-0.851222</td>\n",
       "    </tr>\n",
       "    <tr>\n",
       "      <th>2</th>\n",
       "      <td>62</td>\n",
       "      <td>14756.867133</td>\n",
       "      <td>6850.706294</td>\n",
       "      <td>2434.111888</td>\n",
       "      <td>973.027972</td>\n",
       "      <td>48019.160839</td>\n",
       "      <td>2320.013986</td>\n",
       "      <td>937.538462</td>\n",
       "      <td>1344.489510</td>\n",
       "      <td>41201.111888</td>\n",
       "      <td>...</td>\n",
       "      <td>1244.398601</td>\n",
       "      <td>9404.461538</td>\n",
       "      <td>1244.398601</td>\n",
       "      <td>143</td>\n",
       "      <td>17.570921</td>\n",
       "      <td>10.601379</td>\n",
       "      <td>0.797478</td>\n",
       "      <td>0.986207</td>\n",
       "      <td>0.722222</td>\n",
       "      <td>-1.212504</td>\n",
       "    </tr>\n",
       "    <tr>\n",
       "      <th>3</th>\n",
       "      <td>127</td>\n",
       "      <td>367.652778</td>\n",
       "      <td>899.824074</td>\n",
       "      <td>360.078704</td>\n",
       "      <td>680.750000</td>\n",
       "      <td>348.027778</td>\n",
       "      <td>827.837963</td>\n",
       "      <td>370.787037</td>\n",
       "      <td>744.620370</td>\n",
       "      <td>355.083333</td>\n",
       "      <td>...</td>\n",
       "      <td>1320.407407</td>\n",
       "      <td>19109.277778</td>\n",
       "      <td>1320.407407</td>\n",
       "      <td>216</td>\n",
       "      <td>20.782641</td>\n",
       "      <td>13.268136</td>\n",
       "      <td>0.769685</td>\n",
       "      <td>0.964286</td>\n",
       "      <td>0.720000</td>\n",
       "      <td>-0.352952</td>\n",
       "    </tr>\n",
       "    <tr>\n",
       "      <th>4</th>\n",
       "      <td>140</td>\n",
       "      <td>17104.951807</td>\n",
       "      <td>7501.767068</td>\n",
       "      <td>2608.425703</td>\n",
       "      <td>993.742972</td>\n",
       "      <td>41881.819277</td>\n",
       "      <td>2179.935743</td>\n",
       "      <td>833.072289</td>\n",
       "      <td>1082.522088</td>\n",
       "      <td>33713.783133</td>\n",
       "      <td>...</td>\n",
       "      <td>1333.722892</td>\n",
       "      <td>8086.385542</td>\n",
       "      <td>1333.722892</td>\n",
       "      <td>249</td>\n",
       "      <td>24.103029</td>\n",
       "      <td>13.190576</td>\n",
       "      <td>0.836964</td>\n",
       "      <td>0.972656</td>\n",
       "      <td>0.798077</td>\n",
       "      <td>1.485339</td>\n",
       "    </tr>\n",
       "  </tbody>\n",
       "</table>\n",
       "<p>5 rows × 52 columns</p>\n",
       "</div>"
      ],
      "text/plain": [
       "   CellID      Hoechst0        AF488        AF555       AF647      Hoechst1  \\\n",
       "0       8    368.628319   934.362832   380.849558  675.415929    348.194690   \n",
       "1      54    339.355140   842.093458   345.915888  671.065421    313.551402   \n",
       "2      62  14756.867133  6850.706294  2434.111888  973.027972  48019.160839   \n",
       "3     127    367.652778   899.824074   360.078704  680.750000    348.027778   \n",
       "4     140  17104.951807  7501.767068  2608.425703  993.742972  41881.819277   \n",
       "\n",
       "          A488        A555         A647      Hoechst2  ...   Y_centroid  \\\n",
       "0   864.008850  372.761062   760.769912    359.982301  ...   846.893805   \n",
       "1   776.140187  357.542056   737.177570    331.429907  ...  1240.439252   \n",
       "2  2320.013986  937.538462  1344.489510  41201.111888  ...  1244.398601   \n",
       "3   827.837963  370.787037   744.620370    355.083333  ...  1320.407407   \n",
       "4  2179.935743  833.072289  1082.522088  33713.783133  ...  1333.722892   \n",
       "\n",
       "   column_centroid  row_centroid  Area  MajorAxisLength  MinorAxisLength  \\\n",
       "0     20622.858407    846.893805   113        15.712891         9.480411   \n",
       "1     18021.271028   1240.439252   107        18.849453         7.630867   \n",
       "2      9404.461538   1244.398601   143        17.570921        10.601379   \n",
       "3     19109.277778   1320.407407   216        20.782641        13.268136   \n",
       "4      8086.385542   1333.722892   249        24.103029        13.190576   \n",
       "\n",
       "   Eccentricity  Solidity    Extent  Orientation  \n",
       "0      0.797475  0.941667  0.553922    -0.224525  \n",
       "1      0.914391  0.955357  0.419608    -0.851222  \n",
       "2      0.797478  0.986207  0.722222    -1.212504  \n",
       "3      0.769685  0.964286  0.720000    -0.352952  \n",
       "4      0.836964  0.972656  0.798077     1.485339  \n",
       "\n",
       "[5 rows x 52 columns]"
      ]
     },
     "execution_count": 5,
     "metadata": {},
     "output_type": "execute_result"
    }
   ],
   "source": [
    "feature_table_subset = pd.read_csv('./feature_table_subset.csv')\n",
    "feature_table_subset.head()\n"
   ]
  },
  {
   "cell_type": "code",
   "execution_count": 6,
   "metadata": {},
   "outputs": [
    {
     "data": {
      "text/plain": [
       "class_label\n",
       "1    1191882\n",
       "5      26439\n",
       "2      22282\n",
       "4       1337\n",
       "3        647\n",
       "6        169\n",
       "Name: count, dtype: int64"
      ]
     },
     "execution_count": 6,
     "metadata": {},
     "output_type": "execute_result"
    }
   ],
   "source": [
    "truth = pd.read_csv('sardana-097/HACKATHON/csv/truth.csv')\n",
    "truth['class_label'].value_counts()"
   ]
  },
  {
   "cell_type": "code",
   "execution_count": 7,
   "metadata": {},
   "outputs": [],
   "source": [
    "marker_list = ['Hoechst0', 'anti_CD3', 'anti_CD45RO', 'Keratin_570', 'aSMA_660', 'CD4_488', 'CD45_PE', \n",
    "               'PD1_647', 'CD20_488', 'CD68_555', 'CD8a_660', 'CD163_488', 'FOXP3_570', 'PDL1_647', \n",
    "               'Ecad_488', 'Vimentin_555', 'CDX2_647', 'LaminABC_488', 'Desmin_555', 'CD31_647', \n",
    "               'PCNA_488', 'CollagenIV_647', 'Area', 'MajorAxisLength', 'MinorAxisLength', 'Eccentricity', \n",
    "               'Solidity', 'Extent', 'Orientation']\n",
    "\n",
    "marker_list += ['class_label','CellID']\n",
    "dataset = pd.merge(feature_table_subset, truth, on='CellID', how='inner')\n",
    "dataset = dataset[marker_list]"
   ]
  },
  {
   "cell_type": "code",
   "execution_count": 8,
   "metadata": {
    "vscode": {
     "languageId": "ruby"
    }
   },
   "outputs": [],
   "source": [
    "X_train, X_test, y_train, y_test = sklearn.model_selection.train_test_split(\n",
    "    dataset.loc[:,dataset.columns!='class_label'], \n",
    "    dataset['class_label'], \n",
    "    test_size=0.3, random_state=0, \n",
    "    stratify=dataset['class_label'])"
   ]
  },
  {
   "cell_type": "code",
   "execution_count": 9,
   "metadata": {},
   "outputs": [],
   "source": [
    "scaler = StandardScaler()\n",
    "X_train_scaled = scaler.fit_transform(X_train.loc[:,X_train.columns!='CellID'])\n",
    "X_train_scaled = pd.DataFrame(X_train_scaled, \n",
    "                              columns = marker_list[:-2], \n",
    "                              index = X_train['CellID'])\n",
    "X_train_scaled['CellID'] = X_train_scaled.index\n",
    "X_train_scaled = X_train_scaled.reset_index(drop=True)\n",
    "# Test data comes from same distribution as training data\n",
    "X_test_scaled = scaler.transform(X_test.loc[:,X_test.columns!='CellID'])\n",
    "X_test_scaled = pd.DataFrame(X_test_scaled, \n",
    "                             columns = marker_list[:-2], \n",
    "                             index = X_test['CellID'])\n",
    "X_test_scaled['CellID'] = X_test_scaled.index\n",
    "X_test_scaled = X_test_scaled.reset_index(drop=True)"
   ]
  },
  {
   "cell_type": "code",
   "execution_count": 10,
   "metadata": {},
   "outputs": [],
   "source": [
    "output_path = './preprocessed_data'\n",
    "X_train_scaled.to_csv(os.path.join(output_path,'X_train_scaled.csv'),index=False)\n",
    "X_test_scaled.to_csv(os.path.join(output_path,'X_test_scaled.csv'),index=False)\n",
    "y_train.to_csv(os.path.join(output_path,'y_train.csv'),index=False)\n",
    "y_test.to_csv(os.path.join(output_path,'y_test.csv'),index=False)"
   ]
  },
  {
   "cell_type": "markdown",
   "metadata": {},
   "source": [
    "### 3. Train model and evaluate on test set"
   ]
  },
  {
   "cell_type": "code",
   "execution_count": 11,
   "metadata": {},
   "outputs": [],
   "source": [
    "def artifact_detection(clf, clf_name, X_train, y_train, X_test, y_test, out_path):\n",
    "    print(os.path.join(out_path,f'{clf_name}_scores.csv'))\n",
    "    cellids = X_test['CellID']\n",
    "    if ('CellID' in X_train.columns):\n",
    "        X_train = X_train.loc[:,X_train.columns!='CellID']\n",
    "    if ('CellID' in X_test.columns):\n",
    "        X_test = X_test.loc[:,X_test.columns!='CellID']\n",
    "    \n",
    "\n",
    "    clf = clf.fit(X_train.values, y_train['class_label'])\n",
    "    clf_score = clf.score(X_test.values, y_test['class_label'])\n",
    "    print(f\"[Model score = {clf_score}]\")\n",
    "    # Generate Scores\n",
    "    clf_probs = clf.predict_proba(X_test.values)\n",
    "    clf_probs = pd.DataFrame(clf_probs,columns=['1','2','3','4','5','6'])\n",
    "    clf_probs['CellID'] = cellids\n",
    "    clf_probs.to_csv(os.path.join(out_path,f'{clf_name}_scores.csv'),index=False)\n",
    "    # Plot ROC\n",
    "    # roc_df(clf_probs, y_test)\n",
    "\n",
    "    # Generate Calls\n",
    "    clf_probs['class_label'] = clf_probs.loc[:,clf_probs.columns!='CellID'].idxmax(axis='columns')\n",
    "    clf_probs.drop(columns=['1','2','3','4','5','6'], inplace=True)\n",
    "    clf_probs.to_csv(os.path.join(out_path,f'{clf_name}_calls.csv'),index=False)\n",
    "\n"
   ]
  },
  {
   "cell_type": "code",
   "execution_count": 12,
   "metadata": {},
   "outputs": [
    {
     "data": {
      "text/plain": [
       "((71223, 30), (30525, 30))"
      ]
     },
     "execution_count": 12,
     "metadata": {},
     "output_type": "execute_result"
    }
   ],
   "source": [
    "data_path = './preprocessed_data/'\n",
    "X_tr = pd.read_csv(os.path.join(data_path,'X_train_scaled.csv'))\n",
    "X_ts = pd.read_csv(os.path.join(data_path,'X_test_scaled.csv'))\n",
    "y_tr = pd.read_csv(os.path.join(data_path,'y_train.csv'))\n",
    "y_ts = pd.read_csv(os.path.join(data_path,'y_test.csv'))\n",
    "X_tr.shape, X_ts.shape"
   ]
  },
  {
   "cell_type": "code",
   "execution_count": 14,
   "metadata": {},
   "outputs": [
    {
     "name": "stdout",
     "output_type": "stream",
     "text": [
      "./feature_morph/mlp_scores.csv\n",
      "[Model score = 0.9295004095004095]\n"
     ]
    }
   ],
   "source": [
    "mlp_clf = MLPClassifier(hidden_layer_sizes= (100, 50, 25, 12, 6), early_stopping=True, validation_fraction=0.2, \n",
    "                        learning_rate='adaptive', max_iter=500)\n",
    "\n",
    "artifact_detection(mlp_clf,'mlp',\n",
    "                  X_tr, y_tr, X_ts, y_ts,\n",
    "                  './feature_morph')"
   ]
  },
  {
   "cell_type": "code",
   "execution_count": 15,
   "metadata": {},
   "outputs": [
    {
     "data": {
      "image/png": "[encoded data removed]",
      "text/plain": [
       "<Figure size 640x480 with 1 Axes>"
      ]
     },
     "metadata": {},
     "output_type": "display_data"
    }
   ],
   "source": [
    "from sklearn.preprocessing import LabelBinarizer\n",
    "from sklearn.metrics import RocCurveDisplay\n",
    "\n",
    "y_score_ts = pd.read_csv('./feature_morph/mlp_scores.csv')['1']\n",
    "label_binarizer = LabelBinarizer().fit(y_tr['class_label'])\n",
    "y_ts_onehot = label_binarizer.transform(y_ts['class_label'])\n",
    "\n",
    "roc = RocCurveDisplay.from_predictions(y_ts_onehot[:,0], y_score_ts)"
   ]
  },
  {
   "cell_type": "markdown",
   "metadata": {},
   "source": [
    "### 4. Assemble and save model"
   ]
  },
  {
   "cell_type": "code",
   "execution_count": 16,
   "metadata": {},
   "outputs": [],
   "source": [
    "from sklearn.pipeline import Pipeline\n",
    "import pickle as pkl\n",
    "\n",
    "pipe = Pipeline([('scaler', scaler),\n",
    "                 ('classifier', mlp_clf)])\n",
    "\n",
    "with open('./pretrained_model.pkl', 'wb') as f:\n",
    "    pkl.dump(pipe, f)"
   ]
  },
  {
   "cell_type": "code",
   "execution_count": 17,
   "metadata": {},
   "outputs": [],
   "source": [
    "import pickle as pkl\n",
    "\n",
    "with open('./pretrained_model.pkl', 'rb') as f:\n",
    "    pipe = pkl.load(f)"
   ]
  },
  {
   "cell_type": "code",
   "execution_count": 22,
   "metadata": {},
   "outputs": [
    {
     "name": "stdout",
     "output_type": "stream",
     "text": [
      "{1: 15569, 2: 6455, 3: 168, 4: 347, 5: 7943, 6: 43}\n"
     ]
    }
   ],
   "source": [
    "import numpy as np\n",
    "res = pipe.predict(X_test.loc[:,X_test.columns!='CellID'])\n",
    "unique, counts = np.unique(res, return_counts=True)\n",
    "print(dict(zip(unique, counts)))"
   ]
  },
  {
   "cell_type": "code",
   "execution_count": 24,
   "metadata": {},
   "outputs": [
    {
     "data": {
      "text/plain": [
       "(30525, 29)"
      ]
     },
     "execution_count": 24,
     "metadata": {},
     "output_type": "execute_result"
    }
   ],
   "source": [
    "X_test.loc[:,X_test.columns!='CellID'].shape"
   ]
  },
  {
   "cell_type": "code",
   "execution_count": null,
   "metadata": {},
   "outputs": [],
   "source": []
  }
 ],
 "metadata": {
  "kernelspec": {
   "display_name": "cylinter_test",
   "language": "python",
   "name": "python3"
  },
  "language_info": {
   "codemirror_mode": {
    "name": "ipython",
    "version": 3
   },
   "file_extension": ".py",
   "mimetype": "text/x-python",
   "name": "python",
   "nbconvert_exporter": "python",
   "pygments_lexer": "ipython3",
   "version": "3.11.0"
  },
  "orig_nbformat": 4
 },
 "nbformat": 4,
 "nbformat_minor": 2
}
